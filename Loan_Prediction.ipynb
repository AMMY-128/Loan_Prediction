{
 "cells": [
  {
   "cell_type": "code",
   "execution_count": 1,
   "id": "a26c63d8",
   "metadata": {},
   "outputs": [],
   "source": [
    "import pandas as pd\n",
    "import numpy as np\n",
    "\n",
    "import warnings\n",
    "warnings.filterwarnings(\"ignore\")\n",
    "\n",
    "import seaborn as sns\n",
    "from matplotlib import pyplot as plt\n",
    "\n",
    "%matplotlib inline\n",
    "\n",
    "plt.rcParams['figure.figsize']=8,4\n",
    "sns.set_style(\"darkgrid\")"
   ]
  },
  {
   "cell_type": "code",
   "execution_count": 2,
   "id": "1b2d2795",
   "metadata": {},
   "outputs": [],
   "source": [
    "train=pd.read_csv(\"F:/DATA SCIENCE/train.csv\")"
   ]
  },
  {
   "cell_type": "code",
   "execution_count": 3,
   "id": "2e4524b7",
   "metadata": {},
   "outputs": [
    {
     "name": "stdout",
     "output_type": "stream",
     "text": [
      "<class 'pandas.core.frame.DataFrame'>\n",
      "RangeIndex: 67463 entries, 0 to 67462\n",
      "Data columns (total 35 columns):\n",
      " #   Column                        Non-Null Count  Dtype  \n",
      "---  ------                        --------------  -----  \n",
      " 0   ID                            67463 non-null  int64  \n",
      " 1   Loan Amount                   67463 non-null  int64  \n",
      " 2   Funded Amount                 67463 non-null  int64  \n",
      " 3   Funded Amount Investor        67463 non-null  float64\n",
      " 4   Term                          67463 non-null  int64  \n",
      " 5   Batch Enrolled                67463 non-null  object \n",
      " 6   Interest Rate                 67463 non-null  float64\n",
      " 7   Grade                         67463 non-null  object \n",
      " 8   Sub Grade                     67463 non-null  object \n",
      " 9   Employment Duration           67463 non-null  object \n",
      " 10  Home Ownership                67463 non-null  float64\n",
      " 11  Verification Status           67463 non-null  object \n",
      " 12  Payment Plan                  67463 non-null  object \n",
      " 13  Loan Title                    67463 non-null  object \n",
      " 14  Debit to Income               67463 non-null  float64\n",
      " 15  Delinquency - two years       67463 non-null  int64  \n",
      " 16  Inquires - six months         67463 non-null  int64  \n",
      " 17  Open Account                  67463 non-null  int64  \n",
      " 18  Public Record                 67463 non-null  int64  \n",
      " 19  Revolving Balance             67463 non-null  int64  \n",
      " 20  Revolving Utilities           67463 non-null  float64\n",
      " 21  Total Accounts                67463 non-null  int64  \n",
      " 22  Initial List Status           67463 non-null  object \n",
      " 23  Total Received Interest       67463 non-null  float64\n",
      " 24  Total Received Late Fee       67463 non-null  float64\n",
      " 25  Recoveries                    67463 non-null  float64\n",
      " 26  Collection Recovery Fee       67463 non-null  float64\n",
      " 27  Collection 12 months Medical  67463 non-null  int64  \n",
      " 28  Application Type              67463 non-null  object \n",
      " 29  Last week Pay                 67463 non-null  int64  \n",
      " 30  Accounts Delinquent           67463 non-null  int64  \n",
      " 31  Total Collection Amount       67463 non-null  int64  \n",
      " 32  Total Current Balance         67463 non-null  int64  \n",
      " 33  Total Revolving Credit Limit  67463 non-null  int64  \n",
      " 34  Loan Status                   67463 non-null  int64  \n",
      "dtypes: float64(9), int64(17), object(9)\n",
      "memory usage: 18.0+ MB\n"
     ]
    }
   ],
   "source": [
    "train.info()"
   ]
  },
  {
   "cell_type": "code",
   "execution_count": 4,
   "id": "cc708c52",
   "metadata": {},
   "outputs": [
    {
     "data": {
      "text/html": [
       "<div>\n",
       "<style scoped>\n",
       "    .dataframe tbody tr th:only-of-type {\n",
       "        vertical-align: middle;\n",
       "    }\n",
       "\n",
       "    .dataframe tbody tr th {\n",
       "        vertical-align: top;\n",
       "    }\n",
       "\n",
       "    .dataframe thead th {\n",
       "        text-align: right;\n",
       "    }\n",
       "</style>\n",
       "<table border=\"1\" class=\"dataframe\">\n",
       "  <thead>\n",
       "    <tr style=\"text-align: right;\">\n",
       "      <th></th>\n",
       "      <th>ID</th>\n",
       "      <th>Loan Amount</th>\n",
       "      <th>Funded Amount</th>\n",
       "      <th>Funded Amount Investor</th>\n",
       "      <th>Term</th>\n",
       "      <th>Batch Enrolled</th>\n",
       "      <th>Interest Rate</th>\n",
       "      <th>Grade</th>\n",
       "      <th>Sub Grade</th>\n",
       "      <th>Employment Duration</th>\n",
       "      <th>...</th>\n",
       "      <th>Recoveries</th>\n",
       "      <th>Collection Recovery Fee</th>\n",
       "      <th>Collection 12 months Medical</th>\n",
       "      <th>Application Type</th>\n",
       "      <th>Last week Pay</th>\n",
       "      <th>Accounts Delinquent</th>\n",
       "      <th>Total Collection Amount</th>\n",
       "      <th>Total Current Balance</th>\n",
       "      <th>Total Revolving Credit Limit</th>\n",
       "      <th>Loan Status</th>\n",
       "    </tr>\n",
       "  </thead>\n",
       "  <tbody>\n",
       "    <tr>\n",
       "      <th>0</th>\n",
       "      <td>65087372</td>\n",
       "      <td>10000</td>\n",
       "      <td>32236</td>\n",
       "      <td>12329.36286</td>\n",
       "      <td>59</td>\n",
       "      <td>BAT2522922</td>\n",
       "      <td>11.135007</td>\n",
       "      <td>B</td>\n",
       "      <td>C4</td>\n",
       "      <td>MORTGAGE</td>\n",
       "      <td>...</td>\n",
       "      <td>2.498291</td>\n",
       "      <td>0.793724</td>\n",
       "      <td>0</td>\n",
       "      <td>INDIVIDUAL</td>\n",
       "      <td>49</td>\n",
       "      <td>0</td>\n",
       "      <td>31</td>\n",
       "      <td>311301</td>\n",
       "      <td>6619</td>\n",
       "      <td>0</td>\n",
       "    </tr>\n",
       "    <tr>\n",
       "      <th>1</th>\n",
       "      <td>1450153</td>\n",
       "      <td>3609</td>\n",
       "      <td>11940</td>\n",
       "      <td>12191.99692</td>\n",
       "      <td>59</td>\n",
       "      <td>BAT1586599</td>\n",
       "      <td>12.237563</td>\n",
       "      <td>C</td>\n",
       "      <td>D3</td>\n",
       "      <td>RENT</td>\n",
       "      <td>...</td>\n",
       "      <td>2.377215</td>\n",
       "      <td>0.974821</td>\n",
       "      <td>0</td>\n",
       "      <td>INDIVIDUAL</td>\n",
       "      <td>109</td>\n",
       "      <td>0</td>\n",
       "      <td>53</td>\n",
       "      <td>182610</td>\n",
       "      <td>20885</td>\n",
       "      <td>0</td>\n",
       "    </tr>\n",
       "    <tr>\n",
       "      <th>2</th>\n",
       "      <td>1969101</td>\n",
       "      <td>28276</td>\n",
       "      <td>9311</td>\n",
       "      <td>21603.22455</td>\n",
       "      <td>59</td>\n",
       "      <td>BAT2136391</td>\n",
       "      <td>12.545884</td>\n",
       "      <td>F</td>\n",
       "      <td>D4</td>\n",
       "      <td>MORTGAGE</td>\n",
       "      <td>...</td>\n",
       "      <td>4.316277</td>\n",
       "      <td>1.020075</td>\n",
       "      <td>0</td>\n",
       "      <td>INDIVIDUAL</td>\n",
       "      <td>66</td>\n",
       "      <td>0</td>\n",
       "      <td>34</td>\n",
       "      <td>89801</td>\n",
       "      <td>26155</td>\n",
       "      <td>0</td>\n",
       "    </tr>\n",
       "    <tr>\n",
       "      <th>3</th>\n",
       "      <td>6651430</td>\n",
       "      <td>11170</td>\n",
       "      <td>6954</td>\n",
       "      <td>17877.15585</td>\n",
       "      <td>59</td>\n",
       "      <td>BAT2428731</td>\n",
       "      <td>16.731201</td>\n",
       "      <td>C</td>\n",
       "      <td>C3</td>\n",
       "      <td>MORTGAGE</td>\n",
       "      <td>...</td>\n",
       "      <td>0.107020</td>\n",
       "      <td>0.749971</td>\n",
       "      <td>0</td>\n",
       "      <td>INDIVIDUAL</td>\n",
       "      <td>39</td>\n",
       "      <td>0</td>\n",
       "      <td>40</td>\n",
       "      <td>9189</td>\n",
       "      <td>60214</td>\n",
       "      <td>0</td>\n",
       "    </tr>\n",
       "    <tr>\n",
       "      <th>4</th>\n",
       "      <td>14354669</td>\n",
       "      <td>16890</td>\n",
       "      <td>13226</td>\n",
       "      <td>13539.92667</td>\n",
       "      <td>59</td>\n",
       "      <td>BAT5341619</td>\n",
       "      <td>15.008300</td>\n",
       "      <td>C</td>\n",
       "      <td>D4</td>\n",
       "      <td>MORTGAGE</td>\n",
       "      <td>...</td>\n",
       "      <td>1294.818751</td>\n",
       "      <td>0.368953</td>\n",
       "      <td>0</td>\n",
       "      <td>INDIVIDUAL</td>\n",
       "      <td>18</td>\n",
       "      <td>0</td>\n",
       "      <td>430</td>\n",
       "      <td>126029</td>\n",
       "      <td>22579</td>\n",
       "      <td>0</td>\n",
       "    </tr>\n",
       "  </tbody>\n",
       "</table>\n",
       "<p>5 rows × 35 columns</p>\n",
       "</div>"
      ],
      "text/plain": [
       "         ID  Loan Amount  Funded Amount  Funded Amount Investor  Term  \\\n",
       "0  65087372        10000          32236             12329.36286    59   \n",
       "1   1450153         3609          11940             12191.99692    59   \n",
       "2   1969101        28276           9311             21603.22455    59   \n",
       "3   6651430        11170           6954             17877.15585    59   \n",
       "4  14354669        16890          13226             13539.92667    59   \n",
       "\n",
       "  Batch Enrolled  Interest Rate Grade Sub Grade Employment Duration  ...  \\\n",
       "0     BAT2522922      11.135007     B        C4            MORTGAGE  ...   \n",
       "1     BAT1586599      12.237563     C        D3                RENT  ...   \n",
       "2     BAT2136391      12.545884     F        D4            MORTGAGE  ...   \n",
       "3     BAT2428731      16.731201     C        C3            MORTGAGE  ...   \n",
       "4     BAT5341619      15.008300     C        D4            MORTGAGE  ...   \n",
       "\n",
       "    Recoveries Collection Recovery Fee Collection 12 months Medical  \\\n",
       "0     2.498291                0.793724                            0   \n",
       "1     2.377215                0.974821                            0   \n",
       "2     4.316277                1.020075                            0   \n",
       "3     0.107020                0.749971                            0   \n",
       "4  1294.818751                0.368953                            0   \n",
       "\n",
       "  Application Type  Last week Pay  Accounts Delinquent  \\\n",
       "0       INDIVIDUAL             49                    0   \n",
       "1       INDIVIDUAL            109                    0   \n",
       "2       INDIVIDUAL             66                    0   \n",
       "3       INDIVIDUAL             39                    0   \n",
       "4       INDIVIDUAL             18                    0   \n",
       "\n",
       "   Total Collection Amount  Total Current Balance  \\\n",
       "0                       31                 311301   \n",
       "1                       53                 182610   \n",
       "2                       34                  89801   \n",
       "3                       40                   9189   \n",
       "4                      430                 126029   \n",
       "\n",
       "   Total Revolving Credit Limit  Loan Status  \n",
       "0                          6619            0  \n",
       "1                         20885            0  \n",
       "2                         26155            0  \n",
       "3                         60214            0  \n",
       "4                         22579            0  \n",
       "\n",
       "[5 rows x 35 columns]"
      ]
     },
     "execution_count": 4,
     "metadata": {},
     "output_type": "execute_result"
    }
   ],
   "source": [
    "train.head()"
   ]
  },
  {
   "cell_type": "code",
   "execution_count": 5,
   "id": "835b2bb1",
   "metadata": {},
   "outputs": [
    {
     "data": {
      "text/plain": [
       "0"
      ]
     },
     "execution_count": 5,
     "metadata": {},
     "output_type": "execute_result"
    }
   ],
   "source": [
    "train.duplicated().sum()"
   ]
  },
  {
   "cell_type": "code",
   "execution_count": 6,
   "id": "e7f87578",
   "metadata": {},
   "outputs": [
    {
     "data": {
      "text/plain": [
       "ID                              0\n",
       "Loan Amount                     0\n",
       "Funded Amount                   0\n",
       "Funded Amount Investor          0\n",
       "Term                            0\n",
       "Batch Enrolled                  0\n",
       "Interest Rate                   0\n",
       "Grade                           0\n",
       "Sub Grade                       0\n",
       "Employment Duration             0\n",
       "Home Ownership                  0\n",
       "Verification Status             0\n",
       "Payment Plan                    0\n",
       "Loan Title                      0\n",
       "Debit to Income                 0\n",
       "Delinquency - two years         0\n",
       "Inquires - six months           0\n",
       "Open Account                    0\n",
       "Public Record                   0\n",
       "Revolving Balance               0\n",
       "Revolving Utilities             0\n",
       "Total Accounts                  0\n",
       "Initial List Status             0\n",
       "Total Received Interest         0\n",
       "Total Received Late Fee         0\n",
       "Recoveries                      0\n",
       "Collection Recovery Fee         0\n",
       "Collection 12 months Medical    0\n",
       "Application Type                0\n",
       "Last week Pay                   0\n",
       "Accounts Delinquent             0\n",
       "Total Collection Amount         0\n",
       "Total Current Balance           0\n",
       "Total Revolving Credit Limit    0\n",
       "Loan Status                     0\n",
       "dtype: int64"
      ]
     },
     "execution_count": 6,
     "metadata": {},
     "output_type": "execute_result"
    }
   ],
   "source": [
    "train.isna().sum()"
   ]
  },
  {
   "cell_type": "code",
   "execution_count": 7,
   "id": "f5270ad5",
   "metadata": {},
   "outputs": [
    {
     "data": {
      "text/plain": [
       "Index(['ID', 'Loan Amount', 'Funded Amount', 'Funded Amount Investor', 'Term',\n",
       "       'Batch Enrolled', 'Interest Rate', 'Grade', 'Sub Grade',\n",
       "       'Employment Duration', 'Home Ownership', 'Verification Status',\n",
       "       'Payment Plan', 'Loan Title', 'Debit to Income',\n",
       "       'Delinquency - two years', 'Inquires - six months', 'Open Account',\n",
       "       'Public Record', 'Revolving Balance', 'Revolving Utilities',\n",
       "       'Total Accounts', 'Initial List Status', 'Total Received Interest',\n",
       "       'Total Received Late Fee', 'Recoveries', 'Collection Recovery Fee',\n",
       "       'Collection 12 months Medical', 'Application Type', 'Last week Pay',\n",
       "       'Accounts Delinquent', 'Total Collection Amount',\n",
       "       'Total Current Balance', 'Total Revolving Credit Limit', 'Loan Status'],\n",
       "      dtype='object')"
      ]
     },
     "execution_count": 7,
     "metadata": {},
     "output_type": "execute_result"
    }
   ],
   "source": [
    "train.columns"
   ]
  },
  {
   "cell_type": "code",
   "execution_count": 8,
   "id": "89954df9",
   "metadata": {},
   "outputs": [],
   "source": [
    "train.columns=train.columns.str.lower()\n",
    "train.columns=train.columns.str.replace(\" \",\"_\")"
   ]
  },
  {
   "cell_type": "code",
   "execution_count": 9,
   "id": "4af340bf",
   "metadata": {},
   "outputs": [
    {
     "data": {
      "text/plain": [
       "Index(['id', 'loan_amount', 'funded_amount', 'funded_amount_investor', 'term',\n",
       "       'batch_enrolled', 'interest_rate', 'grade', 'sub_grade',\n",
       "       'employment_duration', 'home_ownership', 'verification_status',\n",
       "       'payment_plan', 'loan_title', 'debit_to_income',\n",
       "       'delinquency_-_two_years', 'inquires_-_six_months', 'open_account',\n",
       "       'public_record', 'revolving_balance', 'revolving_utilities',\n",
       "       'total_accounts', 'initial_list_status', 'total_received_interest',\n",
       "       'total_received_late_fee', 'recoveries', 'collection_recovery_fee',\n",
       "       'collection_12_months_medical', 'application_type', 'last_week_pay',\n",
       "       'accounts_delinquent', 'total_collection_amount',\n",
       "       'total_current_balance', 'total_revolving_credit_limit', 'loan_status'],\n",
       "      dtype='object')"
      ]
     },
     "execution_count": 9,
     "metadata": {},
     "output_type": "execute_result"
    }
   ],
   "source": [
    "train.columns"
   ]
  },
  {
   "cell_type": "code",
   "execution_count": 10,
   "id": "8dc3a1ca",
   "metadata": {},
   "outputs": [
    {
     "data": {
      "text/plain": [
       "<Axes: ylabel='Frequency'>"
      ]
     },
     "execution_count": 10,
     "metadata": {},
     "output_type": "execute_result"
    },
    {
     "data": {
      "image/png": "[encoded data removed]",
      "text/plain": [
       "<Figure size 800x400 with 1 Axes>"
      ]
     },
     "metadata": {},
     "output_type": "display_data"
    }
   ],
   "source": [
    "train['funded_amount'].plot(kind='hist')"
   ]
  },
  {
   "cell_type": "code",
   "execution_count": 11,
   "id": "a3c4dedc",
   "metadata": {},
   "outputs": [
    {
     "data": {
      "text/plain": [
       "<Axes: ylabel='Frequency'>"
      ]
     },
     "execution_count": 11,
     "metadata": {},
     "output_type": "execute_result"
    },
    {
     "data": {
      "image/png": "[encoded data removed]",
      "text/plain": [
       "<Figure size 800x400 with 1 Axes>"
      ]
     },
     "metadata": {},
     "output_type": "display_data"
    }
   ],
   "source": [
    "train['funded_amount_investor'].plot(kind='hist')"
   ]
  },
  {
   "cell_type": "code",
   "execution_count": 12,
   "id": "b7af1043",
   "metadata": {},
   "outputs": [
    {
     "data": {
      "text/plain": [
       "array([59, 36, 58], dtype=int64)"
      ]
     },
     "execution_count": 12,
     "metadata": {},
     "output_type": "execute_result"
    }
   ],
   "source": [
    "train['term'].unique()"
   ]
  },
  {
   "cell_type": "code",
   "execution_count": 13,
   "id": "00898966",
   "metadata": {},
   "outputs": [],
   "source": [
    "train['term']=train['term'].astype(\"str\")"
   ]
  },
  {
   "cell_type": "code",
   "execution_count": 14,
   "id": "0976f247",
   "metadata": {},
   "outputs": [
    {
     "data": {
      "text/plain": [
       "<Axes: xlabel='term', ylabel='count'>"
      ]
     },
     "execution_count": 14,
     "metadata": {},
     "output_type": "execute_result"
    },
    {
     "data": {
      "image/png": "[encoded data removed]",
      "text/plain": [
       "<Figure size 800x400 with 1 Axes>"
      ]
     },
     "metadata": {},
     "output_type": "display_data"
    }
   ],
   "source": [
    "sns.countplot(data=train,x='term',hue='loan_status')"
   ]
  },
  {
   "cell_type": "code",
   "execution_count": 15,
   "id": "34d7aee8",
   "metadata": {},
   "outputs": [
    {
     "data": {
      "text/plain": [
       "41"
      ]
     },
     "execution_count": 15,
     "metadata": {},
     "output_type": "execute_result"
    }
   ],
   "source": [
    "train['batch_enrolled'].nunique()"
   ]
  },
  {
   "cell_type": "code",
   "execution_count": 16,
   "id": "2309c647",
   "metadata": {},
   "outputs": [
    {
     "data": {
      "text/plain": [
       "Text(0.5, 1.0, 'Count plot:Batch Enrolled')"
      ]
     },
     "execution_count": 16,
     "metadata": {},
     "output_type": "execute_result"
    },
    {
     "data": {
      "image/png": "[encoded data removed]",
      "text/plain": [
       "<Figure size 800x400 with 1 Axes>"
      ]
     },
     "metadata": {},
     "output_type": "display_data"
    }
   ],
   "source": [
    "sns.countplot(data=train,x='batch_enrolled',hue='loan_status')\n",
    "plt.title(\"Count plot:Batch Enrolled\",fontsize=20,color='red')"
   ]
  },
  {
   "cell_type": "code",
   "execution_count": 33,
   "id": "2c72258f",
   "metadata": {},
   "outputs": [
    {
     "data": {
      "text/plain": [
       "<Axes: xlabel='interest_rate', ylabel='Count'>"
      ]
     },
     "execution_count": 33,
     "metadata": {},
     "output_type": "execute_result"
    },
    {
     "data": {
      "image/png": "[encoded data removed]",
      "text/plain": [
       "<Figure size 800x400 with 1 Axes>"
      ]
     },
     "metadata": {},
     "output_type": "display_data"
    }
   ],
   "source": [
    "sns.histplot(data=train,x='interest_rate',hue='loan_status')"
   ]
  },
  {
   "cell_type": "code",
   "execution_count": 18,
   "id": "43686b4a",
   "metadata": {},
   "outputs": [
    {
     "data": {
      "text/html": [
       "<style type=\"text/css\">\n",
       "</style>\n",
       "<table id=\"T_bd20f\">\n",
       "  <thead>\n",
       "    <tr>\n",
       "      <th class=\"blank level0\" >&nbsp;</th>\n",
       "      <th id=\"T_bd20f_level0_col0\" class=\"col_heading level0 col0\" >Feature</th>\n",
       "      <th id=\"T_bd20f_level0_col1\" class=\"col_heading level0 col1\" >cardinality</th>\n",
       "    </tr>\n",
       "  </thead>\n",
       "  <tbody>\n",
       "    <tr>\n",
       "      <th id=\"T_bd20f_level0_row0\" class=\"row_heading level0 row0\" >7</th>\n",
       "      <td id=\"T_bd20f_row0_col0\" class=\"data row0 col0\" >loan_title</td>\n",
       "      <td id=\"T_bd20f_row0_col1\" class=\"data row0 col1\" >109</td>\n",
       "    </tr>\n",
       "    <tr>\n",
       "      <th id=\"T_bd20f_level0_row1\" class=\"row_heading level0 row1\" >1</th>\n",
       "      <td id=\"T_bd20f_row1_col0\" class=\"data row1 col0\" >batch_enrolled</td>\n",
       "      <td id=\"T_bd20f_row1_col1\" class=\"data row1 col1\" >41</td>\n",
       "    </tr>\n",
       "    <tr>\n",
       "      <th id=\"T_bd20f_level0_row2\" class=\"row_heading level0 row2\" >3</th>\n",
       "      <td id=\"T_bd20f_row2_col0\" class=\"data row2 col0\" >sub_grade</td>\n",
       "      <td id=\"T_bd20f_row2_col1\" class=\"data row2 col1\" >35</td>\n",
       "    </tr>\n",
       "    <tr>\n",
       "      <th id=\"T_bd20f_level0_row3\" class=\"row_heading level0 row3\" >2</th>\n",
       "      <td id=\"T_bd20f_row3_col0\" class=\"data row3 col0\" >grade</td>\n",
       "      <td id=\"T_bd20f_row3_col1\" class=\"data row3 col1\" >7</td>\n",
       "    </tr>\n",
       "    <tr>\n",
       "      <th id=\"T_bd20f_level0_row4\" class=\"row_heading level0 row4\" >0</th>\n",
       "      <td id=\"T_bd20f_row4_col0\" class=\"data row4 col0\" >term</td>\n",
       "      <td id=\"T_bd20f_row4_col1\" class=\"data row4 col1\" >3</td>\n",
       "    </tr>\n",
       "    <tr>\n",
       "      <th id=\"T_bd20f_level0_row5\" class=\"row_heading level0 row5\" >4</th>\n",
       "      <td id=\"T_bd20f_row5_col0\" class=\"data row5 col0\" >employment_duration</td>\n",
       "      <td id=\"T_bd20f_row5_col1\" class=\"data row5 col1\" >3</td>\n",
       "    </tr>\n",
       "    <tr>\n",
       "      <th id=\"T_bd20f_level0_row6\" class=\"row_heading level0 row6\" >5</th>\n",
       "      <td id=\"T_bd20f_row6_col0\" class=\"data row6 col0\" >verification_status</td>\n",
       "      <td id=\"T_bd20f_row6_col1\" class=\"data row6 col1\" >3</td>\n",
       "    </tr>\n",
       "    <tr>\n",
       "      <th id=\"T_bd20f_level0_row7\" class=\"row_heading level0 row7\" >8</th>\n",
       "      <td id=\"T_bd20f_row7_col0\" class=\"data row7 col0\" >initial_list_status</td>\n",
       "      <td id=\"T_bd20f_row7_col1\" class=\"data row7 col1\" >2</td>\n",
       "    </tr>\n",
       "    <tr>\n",
       "      <th id=\"T_bd20f_level0_row8\" class=\"row_heading level0 row8\" >9</th>\n",
       "      <td id=\"T_bd20f_row8_col0\" class=\"data row8 col0\" >application_type</td>\n",
       "      <td id=\"T_bd20f_row8_col1\" class=\"data row8 col1\" >2</td>\n",
       "    </tr>\n",
       "    <tr>\n",
       "      <th id=\"T_bd20f_level0_row9\" class=\"row_heading level0 row9\" >6</th>\n",
       "      <td id=\"T_bd20f_row9_col0\" class=\"data row9 col0\" >payment_plan</td>\n",
       "      <td id=\"T_bd20f_row9_col1\" class=\"data row9 col1\" >1</td>\n",
       "    </tr>\n",
       "  </tbody>\n",
       "</table>\n"
      ],
      "text/plain": [
       "<pandas.io.formats.style.Styler at 0x1f7547e65c0>"
      ]
     },
     "execution_count": 18,
     "metadata": {},
     "output_type": "execute_result"
    }
   ],
   "source": [
    "cat_col=list(train.select_dtypes(include='object').columns)\n",
    "temp=pd.DataFrame(columns=['Feature','cardinality'])\n",
    "for i  in range(len(cat_col)):\n",
    "    temp.loc[i,'Feature']=cat_col[i]\n",
    "    temp.loc[i,'cardinality']=train[cat_col[i]].nunique()\n",
    "temp.sort_values(by='cardinality',ascending=False).style.background_gradient(cmap='jet')\n",
    "    "
   ]
  },
  {
   "cell_type": "code",
   "execution_count": 19,
   "id": "8215277f",
   "metadata": {},
   "outputs": [],
   "source": [
    "train.drop(['loan_title','batch_enrolled','sub_grade','payment_plan','id'],axis=1,inplace=True)"
   ]
  },
  {
   "cell_type": "code",
   "execution_count": 20,
   "id": "523cc5cc",
   "metadata": {},
   "outputs": [
    {
     "data": {
      "image/png": "[encoded data removed]",
      "text/plain": [
       "<Figure size 800x1200 with 6 Axes>"
      ]
     },
     "metadata": {},
     "output_type": "display_data"
    }
   ],
   "source": [
    "cat_col=list(train.select_dtypes(include='object').columns)\n",
    "plt.figure(figsize=(8,12))\n",
    "for i  in range(len(cat_col)):\n",
    "    plt.subplot(3,2,(i+1))\n",
    "    sns.countplot(data=train,x=cat_col[i],hue='loan_status')\n",
    "    plt.xticks(rotation=20)\n",
    "    plt.xlabel(\"{}\".format(cat_col[i]))\n",
    "    plt.title(\"Count plot:{}\".format(cat_col[i]),fontsize=10,color='red')"
   ]
  },
  {
   "cell_type": "code",
   "execution_count": 21,
   "id": "ef7af8bb",
   "metadata": {},
   "outputs": [
    {
     "data": {
      "text/html": [
       "<div>\n",
       "<style scoped>\n",
       "    .dataframe tbody tr th:only-of-type {\n",
       "        vertical-align: middle;\n",
       "    }\n",
       "\n",
       "    .dataframe tbody tr th {\n",
       "        vertical-align: top;\n",
       "    }\n",
       "\n",
       "    .dataframe thead th {\n",
       "        text-align: right;\n",
       "    }\n",
       "</style>\n",
       "<table border=\"1\" class=\"dataframe\">\n",
       "  <thead>\n",
       "    <tr style=\"text-align: right;\">\n",
       "      <th></th>\n",
       "      <th>loan_amount</th>\n",
       "      <th>funded_amount</th>\n",
       "      <th>funded_amount_investor</th>\n",
       "      <th>term</th>\n",
       "      <th>interest_rate</th>\n",
       "      <th>grade</th>\n",
       "      <th>employment_duration</th>\n",
       "      <th>home_ownership</th>\n",
       "      <th>verification_status</th>\n",
       "      <th>debit_to_income</th>\n",
       "      <th>...</th>\n",
       "      <th>recoveries</th>\n",
       "      <th>collection_recovery_fee</th>\n",
       "      <th>collection_12_months_medical</th>\n",
       "      <th>application_type</th>\n",
       "      <th>last_week_pay</th>\n",
       "      <th>accounts_delinquent</th>\n",
       "      <th>total_collection_amount</th>\n",
       "      <th>total_current_balance</th>\n",
       "      <th>total_revolving_credit_limit</th>\n",
       "      <th>loan_status</th>\n",
       "    </tr>\n",
       "  </thead>\n",
       "  <tbody>\n",
       "    <tr>\n",
       "      <th>0</th>\n",
       "      <td>10000</td>\n",
       "      <td>32236</td>\n",
       "      <td>12329.36286</td>\n",
       "      <td>59</td>\n",
       "      <td>11.135007</td>\n",
       "      <td>B</td>\n",
       "      <td>MORTGAGE</td>\n",
       "      <td>176346.62670</td>\n",
       "      <td>Not Verified</td>\n",
       "      <td>16.284758</td>\n",
       "      <td>...</td>\n",
       "      <td>2.498291</td>\n",
       "      <td>0.793724</td>\n",
       "      <td>0</td>\n",
       "      <td>INDIVIDUAL</td>\n",
       "      <td>49</td>\n",
       "      <td>0</td>\n",
       "      <td>31</td>\n",
       "      <td>311301</td>\n",
       "      <td>6619</td>\n",
       "      <td>0</td>\n",
       "    </tr>\n",
       "    <tr>\n",
       "      <th>1</th>\n",
       "      <td>3609</td>\n",
       "      <td>11940</td>\n",
       "      <td>12191.99692</td>\n",
       "      <td>59</td>\n",
       "      <td>12.237563</td>\n",
       "      <td>C</td>\n",
       "      <td>RENT</td>\n",
       "      <td>39833.92100</td>\n",
       "      <td>Source Verified</td>\n",
       "      <td>15.412409</td>\n",
       "      <td>...</td>\n",
       "      <td>2.377215</td>\n",
       "      <td>0.974821</td>\n",
       "      <td>0</td>\n",
       "      <td>INDIVIDUAL</td>\n",
       "      <td>109</td>\n",
       "      <td>0</td>\n",
       "      <td>53</td>\n",
       "      <td>182610</td>\n",
       "      <td>20885</td>\n",
       "      <td>0</td>\n",
       "    </tr>\n",
       "    <tr>\n",
       "      <th>2</th>\n",
       "      <td>28276</td>\n",
       "      <td>9311</td>\n",
       "      <td>21603.22455</td>\n",
       "      <td>59</td>\n",
       "      <td>12.545884</td>\n",
       "      <td>F</td>\n",
       "      <td>MORTGAGE</td>\n",
       "      <td>91506.69105</td>\n",
       "      <td>Source Verified</td>\n",
       "      <td>28.137619</td>\n",
       "      <td>...</td>\n",
       "      <td>4.316277</td>\n",
       "      <td>1.020075</td>\n",
       "      <td>0</td>\n",
       "      <td>INDIVIDUAL</td>\n",
       "      <td>66</td>\n",
       "      <td>0</td>\n",
       "      <td>34</td>\n",
       "      <td>89801</td>\n",
       "      <td>26155</td>\n",
       "      <td>0</td>\n",
       "    </tr>\n",
       "    <tr>\n",
       "      <th>3</th>\n",
       "      <td>11170</td>\n",
       "      <td>6954</td>\n",
       "      <td>17877.15585</td>\n",
       "      <td>59</td>\n",
       "      <td>16.731201</td>\n",
       "      <td>C</td>\n",
       "      <td>MORTGAGE</td>\n",
       "      <td>108286.57590</td>\n",
       "      <td>Source Verified</td>\n",
       "      <td>18.043730</td>\n",
       "      <td>...</td>\n",
       "      <td>0.107020</td>\n",
       "      <td>0.749971</td>\n",
       "      <td>0</td>\n",
       "      <td>INDIVIDUAL</td>\n",
       "      <td>39</td>\n",
       "      <td>0</td>\n",
       "      <td>40</td>\n",
       "      <td>9189</td>\n",
       "      <td>60214</td>\n",
       "      <td>0</td>\n",
       "    </tr>\n",
       "    <tr>\n",
       "      <th>4</th>\n",
       "      <td>16890</td>\n",
       "      <td>13226</td>\n",
       "      <td>13539.92667</td>\n",
       "      <td>59</td>\n",
       "      <td>15.008300</td>\n",
       "      <td>C</td>\n",
       "      <td>MORTGAGE</td>\n",
       "      <td>44234.82545</td>\n",
       "      <td>Source Verified</td>\n",
       "      <td>17.209886</td>\n",
       "      <td>...</td>\n",
       "      <td>1294.818751</td>\n",
       "      <td>0.368953</td>\n",
       "      <td>0</td>\n",
       "      <td>INDIVIDUAL</td>\n",
       "      <td>18</td>\n",
       "      <td>0</td>\n",
       "      <td>430</td>\n",
       "      <td>126029</td>\n",
       "      <td>22579</td>\n",
       "      <td>0</td>\n",
       "    </tr>\n",
       "    <tr>\n",
       "      <th>...</th>\n",
       "      <td>...</td>\n",
       "      <td>...</td>\n",
       "      <td>...</td>\n",
       "      <td>...</td>\n",
       "      <td>...</td>\n",
       "      <td>...</td>\n",
       "      <td>...</td>\n",
       "      <td>...</td>\n",
       "      <td>...</td>\n",
       "      <td>...</td>\n",
       "      <td>...</td>\n",
       "      <td>...</td>\n",
       "      <td>...</td>\n",
       "      <td>...</td>\n",
       "      <td>...</td>\n",
       "      <td>...</td>\n",
       "      <td>...</td>\n",
       "      <td>...</td>\n",
       "      <td>...</td>\n",
       "      <td>...</td>\n",
       "      <td>...</td>\n",
       "    </tr>\n",
       "    <tr>\n",
       "      <th>67458</th>\n",
       "      <td>13601</td>\n",
       "      <td>6848</td>\n",
       "      <td>13175.28583</td>\n",
       "      <td>59</td>\n",
       "      <td>9.408858</td>\n",
       "      <td>C</td>\n",
       "      <td>MORTGAGE</td>\n",
       "      <td>83961.15003</td>\n",
       "      <td>Verified</td>\n",
       "      <td>28.105127</td>\n",
       "      <td>...</td>\n",
       "      <td>564.614852</td>\n",
       "      <td>0.865230</td>\n",
       "      <td>0</td>\n",
       "      <td>INDIVIDUAL</td>\n",
       "      <td>69</td>\n",
       "      <td>0</td>\n",
       "      <td>48</td>\n",
       "      <td>181775</td>\n",
       "      <td>34301</td>\n",
       "      <td>1</td>\n",
       "    </tr>\n",
       "    <tr>\n",
       "      <th>67459</th>\n",
       "      <td>8323</td>\n",
       "      <td>11046</td>\n",
       "      <td>15637.46301</td>\n",
       "      <td>59</td>\n",
       "      <td>9.972104</td>\n",
       "      <td>C</td>\n",
       "      <td>RENT</td>\n",
       "      <td>65491.12817</td>\n",
       "      <td>Source Verified</td>\n",
       "      <td>17.694279</td>\n",
       "      <td>...</td>\n",
       "      <td>2.015494</td>\n",
       "      <td>1.403368</td>\n",
       "      <td>0</td>\n",
       "      <td>INDIVIDUAL</td>\n",
       "      <td>14</td>\n",
       "      <td>0</td>\n",
       "      <td>37</td>\n",
       "      <td>22692</td>\n",
       "      <td>8714</td>\n",
       "      <td>0</td>\n",
       "    </tr>\n",
       "    <tr>\n",
       "      <th>67460</th>\n",
       "      <td>15897</td>\n",
       "      <td>32921</td>\n",
       "      <td>12329.45775</td>\n",
       "      <td>59</td>\n",
       "      <td>19.650943</td>\n",
       "      <td>A</td>\n",
       "      <td>MORTGAGE</td>\n",
       "      <td>34813.96985</td>\n",
       "      <td>Verified</td>\n",
       "      <td>10.295774</td>\n",
       "      <td>...</td>\n",
       "      <td>5.673092</td>\n",
       "      <td>1.607093</td>\n",
       "      <td>0</td>\n",
       "      <td>INDIVIDUAL</td>\n",
       "      <td>137</td>\n",
       "      <td>0</td>\n",
       "      <td>17</td>\n",
       "      <td>176857</td>\n",
       "      <td>42330</td>\n",
       "      <td>0</td>\n",
       "    </tr>\n",
       "    <tr>\n",
       "      <th>67461</th>\n",
       "      <td>16567</td>\n",
       "      <td>4975</td>\n",
       "      <td>21353.68465</td>\n",
       "      <td>59</td>\n",
       "      <td>13.169095</td>\n",
       "      <td>D</td>\n",
       "      <td>OWN</td>\n",
       "      <td>96938.83564</td>\n",
       "      <td>Not Verified</td>\n",
       "      <td>7.614624</td>\n",
       "      <td>...</td>\n",
       "      <td>1.157454</td>\n",
       "      <td>0.207608</td>\n",
       "      <td>0</td>\n",
       "      <td>INDIVIDUAL</td>\n",
       "      <td>73</td>\n",
       "      <td>0</td>\n",
       "      <td>61</td>\n",
       "      <td>361339</td>\n",
       "      <td>39075</td>\n",
       "      <td>0</td>\n",
       "    </tr>\n",
       "    <tr>\n",
       "      <th>67462</th>\n",
       "      <td>15353</td>\n",
       "      <td>29875</td>\n",
       "      <td>14207.44860</td>\n",
       "      <td>59</td>\n",
       "      <td>16.034631</td>\n",
       "      <td>B</td>\n",
       "      <td>MORTGAGE</td>\n",
       "      <td>105123.15580</td>\n",
       "      <td>Verified</td>\n",
       "      <td>16.052112</td>\n",
       "      <td>...</td>\n",
       "      <td>1.856480</td>\n",
       "      <td>0.366386</td>\n",
       "      <td>0</td>\n",
       "      <td>INDIVIDUAL</td>\n",
       "      <td>54</td>\n",
       "      <td>0</td>\n",
       "      <td>47</td>\n",
       "      <td>196960</td>\n",
       "      <td>66060</td>\n",
       "      <td>0</td>\n",
       "    </tr>\n",
       "  </tbody>\n",
       "</table>\n",
       "<p>67463 rows × 30 columns</p>\n",
       "</div>"
      ],
      "text/plain": [
       "       loan_amount  funded_amount  funded_amount_investor term  interest_rate  \\\n",
       "0            10000          32236             12329.36286   59      11.135007   \n",
       "1             3609          11940             12191.99692   59      12.237563   \n",
       "2            28276           9311             21603.22455   59      12.545884   \n",
       "3            11170           6954             17877.15585   59      16.731201   \n",
       "4            16890          13226             13539.92667   59      15.008300   \n",
       "...            ...            ...                     ...  ...            ...   \n",
       "67458        13601           6848             13175.28583   59       9.408858   \n",
       "67459         8323          11046             15637.46301   59       9.972104   \n",
       "67460        15897          32921             12329.45775   59      19.650943   \n",
       "67461        16567           4975             21353.68465   59      13.169095   \n",
       "67462        15353          29875             14207.44860   59      16.034631   \n",
       "\n",
       "      grade employment_duration  home_ownership verification_status  \\\n",
       "0         B            MORTGAGE    176346.62670        Not Verified   \n",
       "1         C                RENT     39833.92100     Source Verified   \n",
       "2         F            MORTGAGE     91506.69105     Source Verified   \n",
       "3         C            MORTGAGE    108286.57590     Source Verified   \n",
       "4         C            MORTGAGE     44234.82545     Source Verified   \n",
       "...     ...                 ...             ...                 ...   \n",
       "67458     C            MORTGAGE     83961.15003            Verified   \n",
       "67459     C                RENT     65491.12817     Source Verified   \n",
       "67460     A            MORTGAGE     34813.96985            Verified   \n",
       "67461     D                 OWN     96938.83564        Not Verified   \n",
       "67462     B            MORTGAGE    105123.15580            Verified   \n",
       "\n",
       "       debit_to_income  ...   recoveries  collection_recovery_fee  \\\n",
       "0            16.284758  ...     2.498291                 0.793724   \n",
       "1            15.412409  ...     2.377215                 0.974821   \n",
       "2            28.137619  ...     4.316277                 1.020075   \n",
       "3            18.043730  ...     0.107020                 0.749971   \n",
       "4            17.209886  ...  1294.818751                 0.368953   \n",
       "...                ...  ...          ...                      ...   \n",
       "67458        28.105127  ...   564.614852                 0.865230   \n",
       "67459        17.694279  ...     2.015494                 1.403368   \n",
       "67460        10.295774  ...     5.673092                 1.607093   \n",
       "67461         7.614624  ...     1.157454                 0.207608   \n",
       "67462        16.052112  ...     1.856480                 0.366386   \n",
       "\n",
       "       collection_12_months_medical  application_type  last_week_pay  \\\n",
       "0                                 0        INDIVIDUAL             49   \n",
       "1                                 0        INDIVIDUAL            109   \n",
       "2                                 0        INDIVIDUAL             66   \n",
       "3                                 0        INDIVIDUAL             39   \n",
       "4                                 0        INDIVIDUAL             18   \n",
       "...                             ...               ...            ...   \n",
       "67458                             0        INDIVIDUAL             69   \n",
       "67459                             0        INDIVIDUAL             14   \n",
       "67460                             0        INDIVIDUAL            137   \n",
       "67461                             0        INDIVIDUAL             73   \n",
       "67462                             0        INDIVIDUAL             54   \n",
       "\n",
       "       accounts_delinquent  total_collection_amount total_current_balance  \\\n",
       "0                        0                       31                311301   \n",
       "1                        0                       53                182610   \n",
       "2                        0                       34                 89801   \n",
       "3                        0                       40                  9189   \n",
       "4                        0                      430                126029   \n",
       "...                    ...                      ...                   ...   \n",
       "67458                    0                       48                181775   \n",
       "67459                    0                       37                 22692   \n",
       "67460                    0                       17                176857   \n",
       "67461                    0                       61                361339   \n",
       "67462                    0                       47                196960   \n",
       "\n",
       "       total_revolving_credit_limit  loan_status  \n",
       "0                              6619            0  \n",
       "1                             20885            0  \n",
       "2                             26155            0  \n",
       "3                             60214            0  \n",
       "4                             22579            0  \n",
       "...                             ...          ...  \n",
       "67458                         34301            1  \n",
       "67459                          8714            0  \n",
       "67460                         42330            0  \n",
       "67461                         39075            0  \n",
       "67462                         66060            0  \n",
       "\n",
       "[67463 rows x 30 columns]"
      ]
     },
     "execution_count": 21,
     "metadata": {},
     "output_type": "execute_result"
    }
   ],
   "source": []
  },
  {
   "cell_type": "code",
   "execution_count": 22,
   "id": "99938257",
   "metadata": {},
   "outputs": [
    {
     "data": {
      "text/plain": [
       "Index(['term', 'grade', 'employment_duration', 'verification_status',\n",
       "       'initial_list_status', 'application_type'],\n",
       "      dtype='object')"
      ]
     },
     "execution_count": 22,
     "metadata": {},
     "output_type": "execute_result"
    }
   ],
   "source": [
    "train.select_dtypes(include='object').columns\n"
   ]
  },
  {
   "cell_type": "code",
   "execution_count": 23,
   "id": "076e1d63",
   "metadata": {},
   "outputs": [],
   "source": [
    "train=pd.get_dummies(train,columns=['term', 'grade', 'employment_duration', 'verification_status',\n",
    "       'initial_list_status', 'application_type'],drop_first=True)"
   ]
  },
  {
   "cell_type": "code",
   "execution_count": 24,
   "id": "3b75d928",
   "metadata": {},
   "outputs": [],
   "source": [
    "y=train['loan_status']\n",
    "X=train.drop('loan_status',axis=1)"
   ]
  },
  {
   "cell_type": "code",
   "execution_count": 25,
   "id": "367d4a14",
   "metadata": {},
   "outputs": [],
   "source": [
    "from sklearn.model_selection import  train_test_split,RandomizedSearchCV\n",
    "from sklearn.metrics import accuracy_score,confusion_matrix,recall_score"
   ]
  },
  {
   "cell_type": "code",
   "execution_count": 26,
   "id": "2d017358",
   "metadata": {},
   "outputs": [],
   "source": [
    "from imblearn.over_sampling import SMOTE\n",
    "smote=SMOTE()\n",
    "smote.fit(X,y)\n",
    "X,y=smote.fit_resample(X,y)"
   ]
  },
  {
   "cell_type": "code",
   "execution_count": 27,
   "id": "4b967bcb",
   "metadata": {},
   "outputs": [],
   "source": [
    "X_train,X_test,y_train,y_test=train_test_split(X,y,test_size=0.3)"
   ]
  },
  {
   "cell_type": "code",
   "execution_count": 28,
   "id": "f21aedeb",
   "metadata": {},
   "outputs": [],
   "source": [
    "from sklearn.ensemble import RandomForestClassifier"
   ]
  },
  {
   "cell_type": "code",
   "execution_count": 29,
   "id": "4ae922a9",
   "metadata": {},
   "outputs": [
    {
     "data": {
      "text/plain": [
       "0.918250122502314"
      ]
     },
     "execution_count": 29,
     "metadata": {},
     "output_type": "execute_result"
    }
   ],
   "source": [
    "model=RandomForestClassifier()\n",
    "model.fit(X_train,y_train)\n",
    "y_pred=model.predict(X_test)\n",
    "accuracy_score(y_test,y_pred)"
   ]
  },
  {
   "cell_type": "code",
   "execution_count": 30,
   "id": "a56c8131",
   "metadata": {},
   "outputs": [],
   "source": [
    "importance=pd.DataFrame({\"score\":model.feature_importances_,'features':X.columns}).sort_values(by='score',ascending=False)"
   ]
  },
  {
   "cell_type": "code",
   "execution_count": 31,
   "id": "e0a7ae4c",
   "metadata": {},
   "outputs": [
    {
     "data": {
      "text/html": [
       "<div>\n",
       "<style scoped>\n",
       "    .dataframe tbody tr th:only-of-type {\n",
       "        vertical-align: middle;\n",
       "    }\n",
       "\n",
       "    .dataframe tbody tr th {\n",
       "        vertical-align: top;\n",
       "    }\n",
       "\n",
       "    .dataframe thead th {\n",
       "        text-align: right;\n",
       "    }\n",
       "</style>\n",
       "<table border=\"1\" class=\"dataframe\">\n",
       "  <thead>\n",
       "    <tr style=\"text-align: right;\">\n",
       "      <th></th>\n",
       "      <th>score</th>\n",
       "      <th>features</th>\n",
       "    </tr>\n",
       "  </thead>\n",
       "  <tbody>\n",
       "    <tr>\n",
       "      <th>23</th>\n",
       "      <td>0.085745</td>\n",
       "      <td>term_58</td>\n",
       "    </tr>\n",
       "    <tr>\n",
       "      <th>24</th>\n",
       "      <td>0.072435</td>\n",
       "      <td>term_59</td>\n",
       "    </tr>\n",
       "    <tr>\n",
       "      <th>33</th>\n",
       "      <td>0.052310</td>\n",
       "      <td>verification_status_Source Verified</td>\n",
       "    </tr>\n",
       "    <tr>\n",
       "      <th>34</th>\n",
       "      <td>0.048287</td>\n",
       "      <td>verification_status_Verified</td>\n",
       "    </tr>\n",
       "    <tr>\n",
       "      <th>26</th>\n",
       "      <td>0.039006</td>\n",
       "      <td>grade_C</td>\n",
       "    </tr>\n",
       "    <tr>\n",
       "      <th>25</th>\n",
       "      <td>0.037683</td>\n",
       "      <td>grade_B</td>\n",
       "    </tr>\n",
       "    <tr>\n",
       "      <th>32</th>\n",
       "      <td>0.035426</td>\n",
       "      <td>employment_duration_RENT</td>\n",
       "    </tr>\n",
       "    <tr>\n",
       "      <th>14</th>\n",
       "      <td>0.032643</td>\n",
       "      <td>total_received_late_fee</td>\n",
       "    </tr>\n",
       "    <tr>\n",
       "      <th>5</th>\n",
       "      <td>0.031562</td>\n",
       "      <td>debit_to_income</td>\n",
       "    </tr>\n",
       "    <tr>\n",
       "      <th>18</th>\n",
       "      <td>0.031150</td>\n",
       "      <td>last_week_pay</td>\n",
       "    </tr>\n",
       "    <tr>\n",
       "      <th>13</th>\n",
       "      <td>0.030937</td>\n",
       "      <td>total_received_interest</td>\n",
       "    </tr>\n",
       "    <tr>\n",
       "      <th>15</th>\n",
       "      <td>0.030837</td>\n",
       "      <td>recoveries</td>\n",
       "    </tr>\n",
       "    <tr>\n",
       "      <th>21</th>\n",
       "      <td>0.029735</td>\n",
       "      <td>total_current_balance</td>\n",
       "    </tr>\n",
       "    <tr>\n",
       "      <th>4</th>\n",
       "      <td>0.029288</td>\n",
       "      <td>home_ownership</td>\n",
       "    </tr>\n",
       "    <tr>\n",
       "      <th>10</th>\n",
       "      <td>0.029236</td>\n",
       "      <td>revolving_balance</td>\n",
       "    </tr>\n",
       "    <tr>\n",
       "      <th>16</th>\n",
       "      <td>0.028504</td>\n",
       "      <td>collection_recovery_fee</td>\n",
       "    </tr>\n",
       "    <tr>\n",
       "      <th>20</th>\n",
       "      <td>0.028123</td>\n",
       "      <td>total_collection_amount</td>\n",
       "    </tr>\n",
       "    <tr>\n",
       "      <th>22</th>\n",
       "      <td>0.028121</td>\n",
       "      <td>total_revolving_credit_limit</td>\n",
       "    </tr>\n",
       "    <tr>\n",
       "      <th>11</th>\n",
       "      <td>0.027991</td>\n",
       "      <td>revolving_utilities</td>\n",
       "    </tr>\n",
       "    <tr>\n",
       "      <th>3</th>\n",
       "      <td>0.027358</td>\n",
       "      <td>interest_rate</td>\n",
       "    </tr>\n",
       "    <tr>\n",
       "      <th>1</th>\n",
       "      <td>0.027344</td>\n",
       "      <td>funded_amount</td>\n",
       "    </tr>\n",
       "    <tr>\n",
       "      <th>2</th>\n",
       "      <td>0.026510</td>\n",
       "      <td>funded_amount_investor</td>\n",
       "    </tr>\n",
       "    <tr>\n",
       "      <th>0</th>\n",
       "      <td>0.026507</td>\n",
       "      <td>loan_amount</td>\n",
       "    </tr>\n",
       "    <tr>\n",
       "      <th>35</th>\n",
       "      <td>0.026373</td>\n",
       "      <td>initial_list_status_w</td>\n",
       "    </tr>\n",
       "    <tr>\n",
       "      <th>27</th>\n",
       "      <td>0.024733</td>\n",
       "      <td>grade_D</td>\n",
       "    </tr>\n",
       "    <tr>\n",
       "      <th>28</th>\n",
       "      <td>0.022723</td>\n",
       "      <td>grade_E</td>\n",
       "    </tr>\n",
       "    <tr>\n",
       "      <th>12</th>\n",
       "      <td>0.020962</td>\n",
       "      <td>total_accounts</td>\n",
       "    </tr>\n",
       "    <tr>\n",
       "      <th>31</th>\n",
       "      <td>0.020393</td>\n",
       "      <td>employment_duration_OWN</td>\n",
       "    </tr>\n",
       "    <tr>\n",
       "      <th>8</th>\n",
       "      <td>0.019846</td>\n",
       "      <td>open_account</td>\n",
       "    </tr>\n",
       "    <tr>\n",
       "      <th>6</th>\n",
       "      <td>0.009571</td>\n",
       "      <td>delinquency_-_two_years</td>\n",
       "    </tr>\n",
       "    <tr>\n",
       "      <th>29</th>\n",
       "      <td>0.008071</td>\n",
       "      <td>grade_F</td>\n",
       "    </tr>\n",
       "    <tr>\n",
       "      <th>9</th>\n",
       "      <td>0.003849</td>\n",
       "      <td>public_record</td>\n",
       "    </tr>\n",
       "    <tr>\n",
       "      <th>7</th>\n",
       "      <td>0.003848</td>\n",
       "      <td>inquires_-_six_months</td>\n",
       "    </tr>\n",
       "    <tr>\n",
       "      <th>30</th>\n",
       "      <td>0.001621</td>\n",
       "      <td>grade_G</td>\n",
       "    </tr>\n",
       "    <tr>\n",
       "      <th>17</th>\n",
       "      <td>0.001037</td>\n",
       "      <td>collection_12_months_medical</td>\n",
       "    </tr>\n",
       "    <tr>\n",
       "      <th>36</th>\n",
       "      <td>0.000237</td>\n",
       "      <td>application_type_JOINT</td>\n",
       "    </tr>\n",
       "    <tr>\n",
       "      <th>19</th>\n",
       "      <td>0.000000</td>\n",
       "      <td>accounts_delinquent</td>\n",
       "    </tr>\n",
       "  </tbody>\n",
       "</table>\n",
       "</div>"
      ],
      "text/plain": [
       "       score                             features\n",
       "23  0.085745                              term_58\n",
       "24  0.072435                              term_59\n",
       "33  0.052310  verification_status_Source Verified\n",
       "34  0.048287         verification_status_Verified\n",
       "26  0.039006                              grade_C\n",
       "25  0.037683                              grade_B\n",
       "32  0.035426             employment_duration_RENT\n",
       "14  0.032643              total_received_late_fee\n",
       "5   0.031562                      debit_to_income\n",
       "18  0.031150                        last_week_pay\n",
       "13  0.030937              total_received_interest\n",
       "15  0.030837                           recoveries\n",
       "21  0.029735                total_current_balance\n",
       "4   0.029288                       home_ownership\n",
       "10  0.029236                    revolving_balance\n",
       "16  0.028504              collection_recovery_fee\n",
       "20  0.028123              total_collection_amount\n",
       "22  0.028121         total_revolving_credit_limit\n",
       "11  0.027991                  revolving_utilities\n",
       "3   0.027358                        interest_rate\n",
       "1   0.027344                        funded_amount\n",
       "2   0.026510               funded_amount_investor\n",
       "0   0.026507                          loan_amount\n",
       "35  0.026373                initial_list_status_w\n",
       "27  0.024733                              grade_D\n",
       "28  0.022723                              grade_E\n",
       "12  0.020962                       total_accounts\n",
       "31  0.020393              employment_duration_OWN\n",
       "8   0.019846                         open_account\n",
       "6   0.009571              delinquency_-_two_years\n",
       "29  0.008071                              grade_F\n",
       "9   0.003849                        public_record\n",
       "7   0.003848                inquires_-_six_months\n",
       "30  0.001621                              grade_G\n",
       "17  0.001037         collection_12_months_medical\n",
       "36  0.000237               application_type_JOINT\n",
       "19  0.000000                  accounts_delinquent"
      ]
     },
     "execution_count": 31,
     "metadata": {},
     "output_type": "execute_result"
    }
   ],
   "source": [
    "importance"
   ]
  },
  {
   "cell_type": "code",
   "execution_count": 34,
   "id": "526b84ad",
   "metadata": {},
   "outputs": [
    {
     "data": {
      "text/plain": [
       "0.8525132993160351"
      ]
     },
     "execution_count": 34,
     "metadata": {},
     "output_type": "execute_result"
    }
   ],
   "source": [
    "recall_score(y_test,y_pred)"
   ]
  },
  {
   "cell_type": "code",
   "execution_count": null,
   "id": "54d8a6fa",
   "metadata": {},
   "outputs": [],
   "source": []
  }
 ],
 "metadata": {
  "kernelspec": {
   "display_name": "Python 3 (ipykernel)",
   "language": "python",
   "name": "python3"
  },
  "language_info": {
   "codemirror_mode": {
    "name": "ipython",
    "version": 3
   },
   "file_extension": ".py",
   "mimetype": "text/x-python",
   "name": "python",
   "nbconvert_exporter": "python",
   "pygments_lexer": "ipython3",
   "version": "3.10.11"
  }
 },
 "nbformat": 4,
 "nbformat_minor": 5
}
